{
 "cells": [
  {
   "cell_type": "code",
   "execution_count": 22,
   "metadata": {},
   "outputs": [
    {
     "name": "stdout",
     "output_type": "stream",
     "text": [
      "Done\n"
     ]
    }
   ],
   "source": [
    "import pandas as pd\n",
    "import csv\n",
    "import nltk\n",
    "from nltk.corpus import wordnet as wn\n",
    "# syn = wordnet.synsets('dog')[0]\n",
    "\n",
    "# print (\"Synset name :  \", syn.name()) \n",
    "  \n",
    "# print (\"\\nSynset abstract term :  \", syn.hypernyms()) \n",
    "  \n",
    "# print (\"\\nSynset specific term :  \",  \n",
    "#        syn.hypernyms()[0].hyponyms()) \n",
    "  \n",
    "# syn.root_hypernyms() \n",
    "  \n",
    "# print (\"\\nSynset root hypernerm :  \", syn.root_hypernyms()) \n",
    "\n",
    "#from nltk.corpora import wordnet as wn\n",
    "def getSynsetName(synset):\n",
    "        if type(synset) is not list:\n",
    "            return synset.name()\n",
    "        elif type(synset) is list:\n",
    "            for elem in synset:\n",
    "                return elem.name()\n",
    "        else:\n",
    "            print(\"Wrong passed val in synset.\")\n",
    "            \n",
    "filename= \"wordnet_noun_taxonomy.csv\"\n",
    "header = ['Hypernym','Target','Hyponym']\n",
    "\n",
    "with open(filename,'w') as csvfile:\n",
    "    # creating a csv writer object  \n",
    "    csvwriter = csv.writer(csvfile) \n",
    "    \n",
    "    # writing the fields  \n",
    "    csvwriter.writerow(header)  \n",
    "        \n",
    "\n",
    "    for synset in list(wn.all_synsets('n')):\n",
    "        target_hypernyms = getSynsetName(synset.hypernyms())\n",
    "\n",
    "        target_hyponyms = getSynsetName(synset.hyponyms())\n",
    "\n",
    "        #print(synset.name(),target_hypernyms, target_hyponyms)\n",
    "        #print(\"Target hypernyms: {}, target lex icon: {}, target hyponym: {}\".format(synset.name(),target_hypernyms, target_hyponyms))\n",
    "        #print('\\n')\n",
    "        \n",
    "        if target_hypernyms == None:\n",
    "            target_hypernyms = \"Empty\"\n",
    "            \n",
    "        if target_hyponyms == None:\n",
    "            target_hyponyms = \"Empty\"\n",
    "            \n",
    "        row = [[target_hypernyms,synset.name(), target_hyponyms]]\n",
    "\n",
    "        # writing the data rows  \n",
    "        csvwriter.writerows(row) \n",
    "print(\"Done\")\n"
   ]
  },
  {
   "cell_type": "code",
   "execution_count": 24,
   "metadata": {},
   "outputs": [
    {
     "name": "stdout",
     "output_type": "stream",
     "text": [
      "Done\n"
     ]
    }
   ],
   "source": [
    "import pandas as pd\n",
    "import csv\n",
    "import nltk\n",
    "from nltk.corpus import wordnet as wn\n",
    "# syn = wordnet.synsets('dog')[0]\n",
    "\n",
    "# print (\"Synset name :  \", syn.name()) \n",
    "  \n",
    "# print (\"\\nSynset abstract term :  \", syn.hypernyms()) \n",
    "  \n",
    "# print (\"\\nSynset specific term :  \",  \n",
    "#        syn.hypernyms()[0].hyponyms()) \n",
    "  \n",
    "# syn.root_hypernyms() \n",
    "  \n",
    "# print (\"\\nSynset root hypernerm :  \", syn.root_hypernyms()) \n",
    "\n",
    "#from nltk.corpora import wordnet as wn\n",
    "def getSynsetName(synset):\n",
    "        if type(synset) is not list:\n",
    "            return synset.name()\n",
    "        elif type(synset) is list:\n",
    "            for elem in synset:\n",
    "                return elem.name()\n",
    "        else:\n",
    "            print(\"Wrong passed val in synset.\")\n",
    "            \n",
    "filename= \"wordnet_noun_taxonomy_w_weight.csv\"\n",
    "header = ['id1','id2','weight']\n",
    "\n",
    "with open(filename,'w') as csvfile:\n",
    "    # creating a csv writer object  \n",
    "    csvwriter = csv.writer(csvfile) \n",
    "    \n",
    "    # writing the fields  \n",
    "    csvwriter.writerow(header)  \n",
    "        \n",
    "\n",
    "    for synset in list(wn.all_synsets('n')):\n",
    "        target_hypernyms = getSynsetName(synset.hypernyms())\n",
    "\n",
    "        target_hyponyms = getSynsetName(synset.hyponyms())\n",
    "\n",
    "        #print(synset.name(),target_hypernyms, target_hyponyms)\n",
    "        #print(\"Target hypernyms: {}, target lex icon: {}, target hyponym: {}\".format(synset.name(),target_hypernyms, target_hyponyms))\n",
    "        #print('\\n')\n",
    "        \n",
    "        if target_hypernyms == None:\n",
    "            pass\n",
    "            \n",
    "        if target_hyponyms == None:\n",
    "            pass\n",
    "            \n",
    "        row = [[target_hypernyms,synset.name(), 1],[synset.name(),target_hyponyms,1]]\n",
    "\n",
    "        # writing the data rows  \n",
    "        csvwriter.writerows(row) \n",
    "print(\"Done\")\n"
   ]
  },
  {
   "cell_type": "code",
   "execution_count": 25,
   "metadata": {},
   "outputs": [
    {
     "name": "stdout",
     "output_type": "stream",
     "text": [
      "(164230, 3)\n",
      "(91082, 3)\n"
     ]
    }
   ],
   "source": [
    "import csv\n",
    "import pandas as pd\n",
    "\n",
    "\n",
    "\n",
    "\n",
    "unclean = pd.read_csv(\"wordnet_noun_taxonomy_w_weight.csv\")\n",
    "print(unclean.shape)\n",
    "clean = unclean.dropna()\n",
    "print(clean.shape)\n",
    "\n"
   ]
  },
  {
   "cell_type": "code",
   "execution_count": 27,
   "metadata": {},
   "outputs": [],
   "source": [
    "clean.to_csv('wordnet_noun_taxonomy_w_weight.csv', header=True, index= False)"
   ]
  },
  {
   "cell_type": "code",
   "execution_count": null,
   "metadata": {},
   "outputs": [],
   "source": []
  }
 ],
 "metadata": {
  "kernelspec": {
   "display_name": "Python 3",
   "language": "python",
   "name": "python3"
  },
  "language_info": {
   "codemirror_mode": {
    "name": "ipython",
    "version": 3
   },
   "file_extension": ".py",
   "mimetype": "text/x-python",
   "name": "python",
   "nbconvert_exporter": "python",
   "pygments_lexer": "ipython3",
   "version": "3.7.6"
  }
 },
 "nbformat": 4,
 "nbformat_minor": 2
}
