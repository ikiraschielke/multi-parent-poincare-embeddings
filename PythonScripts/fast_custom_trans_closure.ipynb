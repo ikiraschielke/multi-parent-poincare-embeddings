{
 "cells": [
  {
   "cell_type": "code",
   "execution_count": 4,
   "metadata": {},
   "outputs": [
    {
     "name": "stdout",
     "output_type": "stream",
     "text": [
      "/home/ikira/Desktop/multi-parent- poincare-embeddings-\n",
      "Shape  is (3849, 5)\n"
     ]
    }
   ],
   "source": [
    "import os\n",
    "import pandas as pd\n",
    "\n",
    "\n",
    "os.chdir(\"../\")\n",
    "print(os.getcwd())\n",
    "top_level = pd.read_parquet('top_levels_2020-03-24.parquet')\n",
    "del_select = top_level[['concept_id','concept_label','parent_concept_id','parent_label','concept_path']]\n",
    "print('Shape  is {}'.format(del_select.shape))\n",
    "del_select = del_select.fillna(999999999)\n",
    "\n",
    "concept_path = del_select.concept_path\n"
   ]
  },
  {
   "cell_type": "code",
   "execution_count": 3,
   "metadata": {},
   "outputs": [
    {
     "name": "stdout",
     "output_type": "stream",
     "text": [
      "found\n",
      "14924\n",
      "shape of output data is: (14924, 3)\n"
     ]
    }
   ],
   "source": [
    "# list of concepts\n",
    "from itertools import combinations\n",
    "loc = [] \n",
    "\n",
    "transitive_set = set()\n",
    "\n",
    "for index, row in concept_path.iteritems():\n",
    "\n",
    "    loc = [val for val in row.split('/') if val != '']\n",
    "\n",
    "    combs = combinations(loc,2)\n",
    "    \n",
    "    for tupl in combs:\n",
    "        transitive_set.add(tupl)\n",
    "    \n",
    "if (any('189723269' in i for i in transitive_set)):\n",
    "    print('found')\n",
    "    \n",
    "print(len(transitive_set))\n",
    "\n",
    "transitive_df = pd.DataFrame(transitive_set)\n",
    "transitive_df.columns = ['id1','id2']\n",
    "transitive_df['weight'] = 1\n",
    "print('shape of output data is: {}'.format(transitive_df.shape))\n",
    "#shape of output data is: (17479, 3)\n"
   ]
  },
  {
   "cell_type": "raw",
   "metadata": {},
   "source": [
    "#here begins filtering\n",
    "# 189734194 Crystallography as a child of 6! me\n",
    "#transitive_df = transitive_df[transitive_df['concept_id'].duplicated() ]\n",
    "#transitive_df= transitive_df[transitive_df['id1'] != '189734194']\n",
    "transitive_df= transitive_df[transitive_df['id2'] != '189734194']\n",
    "transitive_df.shape"
   ]
  },
  {
   "cell_type": "code",
   "execution_count": null,
   "metadata": {},
   "outputs": [],
   "source": [
    "\n",
    "# # keep chrystallography and delete all parents\n",
    "\n",
    "#transitive_df = transitive_df[transitive_df['id1'] != \"253042360\"] #mat structure\n",
    "#transitive_df = transitive_df[transitive_df['id1'] != \"189721263\"] #condensed matter ph\n",
    "transitive_df = transitive_df[transitive_df['id1'] != '249564277'] #biochem analysis\n",
    "#ransitive_df = transitive_df[transitive_df['id1'] != '209895136'] # diffraction Methods in Chemistry\n",
    "transitive_df = transitive_df[transitive_df['id1'] != '249564212'] #Experimental Approach in Biochemistry\n",
    "print(transitive_df.shape)\n",
    "\n",
    "# transitive_df = transitive_df[transitive_df['id2'] != '253042360']\n",
    "#transitive_df = transitive_df[transitive_df['id2'] != '189721263']\n",
    "transitive_df = transitive_df[transitive_df['id2'] != '249564277']\n",
    "#transitive_df = transitive_df[transitive_df['id2'] != '209895136']\n",
    "transitive_df = transitive_df[transitive_df['id2'] != '249564212']\n",
    "print(transitive_df.shape)"
   ]
  },
  {
   "cell_type": "raw",
   "metadata": {},
   "source": [
    "# transitive_df = transitive_df[transitive_df['id1'] != '235582582'] #ecological economics\n",
    "\n",
    "# transitive_df = transitive_df[transitive_df['id1'] != '170590655'] #ecology\n",
    "transitive_df = transitive_df[transitive_df['id1'] != '235582580'] #eco resource use\n",
    "# transitive_df = transitive_df[transitive_df['id1'] != '253057730'] #eco services\n",
    "transitive_df = transitive_df[transitive_df['id1'] != '253221326'] #enviroext\n",
    "# print(transitive_df.shape)\n",
    "\n",
    "# transitive_df = transitive_df[transitive_df['id2'] != '235582582'] #ecological economics\n",
    "\n",
    "# transitive_df = transitive_df[transitive_df['id2'] != '170590655'] #ecology\n",
    "transitive_df = transitive_df[transitive_df['id2'] != '235582580'] #eco resource use\n",
    "# transitive_df = transitive_df[transitive_df['id2'] != '253057730'] #eco services\n",
    "transitive_df = transitive_df[transitive_df['id2'] != '253221326']  #enviroext\n",
    "print(transitive_df.shape)"
   ]
  },
  {
   "cell_type": "markdown",
   "metadata": {},
   "source": [
    "## some multi-parent deletions"
   ]
  },
  {
   "cell_type": "raw",
   "metadata": {},
   "source": [
    "Archeology 170589330\n",
    "(child of two, parent of 16 children)\n",
    "\n",
    "ecological economics 235582582 \n",
    "(child of two parent of two)\n",
    "\n",
    "184830434 \tChemical Engineering\n",
    "(child of two, parent of 20)\n",
    "\n",
    "189720823 \tAerospace Engineering\n",
    "(child of two, parent of 38)\n",
    "\n",
    "189734194 \tCrystallography\n",
    "(child of 5, parent of 1)"
   ]
  },
  {
   "cell_type": "raw",
   "metadata": {},
   "source": [
    "transitive_df = transitive_df[transitive_df['id1'] != \"170589330\"]\n",
    "transitive_df = transitive_df[transitive_df['id1'] != \"235582582\"]\n",
    "transitive_df = transitive_df[transitive_df['id1'] != \"184830434\"]\n",
    "transitive_df = transitive_df[transitive_df['id1'] != \"189720823\"]\n",
    "transitive_df = transitive_df[transitive_df['id1'] != \"189734194\"]\n",
    "print(transitive_df.shape)"
   ]
  },
  {
   "cell_type": "raw",
   "metadata": {},
   "source": [
    "transitive_df = transitive_df[transitive_df['id2'] != \"170589330\"]\n",
    "transitive_df = transitive_df[transitive_df['id2'] != \"235582582\"]\n",
    "transitive_df = transitive_df[transitive_df['id2'] != \"184830434\"]\n",
    "transitive_df = transitive_df[transitive_df['id2'] != \"189720823\"]\n",
    "transitive_df = transitive_df[transitive_df['id2'] != \"189734194\"]\n",
    "print(transitive_df.shape)"
   ]
  },
  {
   "cell_type": "code",
   "execution_count": 9,
   "metadata": {},
   "outputs": [
    {
     "name": "stdout",
     "output_type": "stream",
     "text": [
      "File saved.\n"
     ]
    }
   ],
   "source": [
    "filtered = transitive_df\n",
    "output_file_name = 'repro_threeparents_crys_closure.csv'\n",
    "\n",
    "os.chdir(\"../closure_csv\")\n",
    "filtered.to_csv(output_file_name,header=True,sep=',',index = False)\n",
    "print('File saved.')#"
   ]
  },
  {
   "cell_type": "code",
   "execution_count": null,
   "metadata": {},
   "outputs": [],
   "source": []
  }
 ],
 "metadata": {
  "kernelspec": {
   "display_name": "Python 3",
   "language": "python",
   "name": "python3"
  },
  "language_info": {
   "codemirror_mode": {
    "name": "ipython",
    "version": 3
   },
   "file_extension": ".py",
   "mimetype": "text/x-python",
   "name": "python",
   "nbconvert_exporter": "python",
   "pygments_lexer": "ipython3",
   "version": "3.7.6"
  }
 },
 "nbformat": 4,
 "nbformat_minor": 4
}
