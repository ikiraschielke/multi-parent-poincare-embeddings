{
 "cells": [
  {
   "cell_type": "code",
   "execution_count": 2,
   "metadata": {},
   "outputs": [
    {
     "name": "stdout",
     "output_type": "stream",
     "text": [
      "Shape  is (252161, 5) and the first entries are    concept_id        concept_label  parent_concept_id parent_label  \\\n",
      "0   189723269              Science                NaN         None   \n",
      "1   170589320  Arts and Humanities        189723269.0      Science   \n",
      "2   170589324     Applied Sciences        189723269.0      Science   \n",
      "3   170589326     Natural Sciences        189723269.0      Science   \n",
      "4   170589328      Social Sciences        189723269.0      Science   \n",
      "\n",
      "            concept_path  \n",
      "0            /189723269/  \n",
      "1  /189723269/170589320/  \n",
      "2  /189723269/170589324/  \n",
      "3  /189723269/170589326/  \n",
      "4  /189723269/170589328/  \n"
     ]
    }
   ],
   "source": [
    "import csv\n",
    "import pandas as pd\n",
    "import os\n",
    "\n",
    "os.chdir(\"/home/ikira/poincare-embeddings\")\n",
    "els_data = pd.read_parquet('os_tree_2020-03-24.parquet')\n",
    "df = els_data[['concept_id','concept_label','parent_concept_id','parent_label','concept_path']]\n",
    "del_select = df.fillna(999999999)\n",
    "\n",
    "#(252161, 5)"
   ]
  },
  {
   "cell_type": "code",
   "execution_count": 5,
   "metadata": {},
   "outputs": [
    {
     "data": {
      "text/plain": [
       "['170589320', '170589324', '170589326', '170589328', '170589436', '186201601']"
      ]
     },
     "execution_count": 5,
     "metadata": {},
     "output_type": "execute_result"
    }
   ],
   "source": [
    "#level one\n",
    "lvl_one = del_select[del_select['parent_label'] == \"Science\" ]\n",
    "lvl_one\n",
    "erg = list(map(str,map(int,lvl_one.concept_id)))\n",
    "erg"
   ]
  },
  {
   "cell_type": "code",
   "execution_count": 7,
   "metadata": {
    "scrolled": true
   },
   "outputs": [
    {
     "data": {
      "text/plain": [
       "['170589330',\n",
       " '170589330',\n",
       " '170589340',\n",
       " '170589344',\n",
       " '170589346',\n",
       " '189457051',\n",
       " '190195143',\n",
       " '170589394',\n",
       " '170589400',\n",
       " '170589402',\n",
       " '186201441',\n",
       " '189352157',\n",
       " '210636186',\n",
       " '253047133',\n",
       " '189723279',\n",
       " '525179074',\n",
       " '250235187',\n",
       " '250235201',\n",
       " '170589334',\n",
       " '170589336',\n",
       " '170589342',\n",
       " '170590689',\n",
       " '170590697',\n",
       " '170590709',\n",
       " '186201332',\n",
       " '186201337',\n",
       " '186204053',\n",
       " '189721310',\n",
       " '189721327',\n",
       " '235581437',\n",
       " '253056635',\n",
       " '170590677',\n",
       " '189720899',\n",
       " '189720901',\n",
       " '189720903',\n",
       " '189720905',\n",
       " '189720911',\n",
       " '189720915',\n",
       " '191884336',\n",
       " '210628531',\n",
       " '522419957',\n",
       " '170589404',\n",
       " '186201345',\n",
       " '186201603',\n",
       " '210636295']"
      ]
     },
     "execution_count": 7,
     "metadata": {},
     "output_type": "execute_result"
    }
   ],
   "source": [
    "lvl_two = del_select[del_select['concept_path'].str.split('/', expand=False).map(len) == 5]\n",
    "lvl_two\n",
    "erg = list(map(str,map(int,lvl_two.concept_id)))\n",
    "erg"
   ]
  },
  {
   "cell_type": "code",
   "execution_count": null,
   "metadata": {},
   "outputs": [],
   "source": [
    "lvl_three = del_select[del_select['concept_path'].str.split('/', expand=False).map(len) == 6]\n",
    "lvl_three\n",
    "erg = list(map(str,map(int,lvl_three.concept_id)))\n",
    "erg"
   ]
  },
  {
   "cell_type": "code",
   "execution_count": 9,
   "metadata": {},
   "outputs": [
    {
     "data": {
      "text/html": [
       "<div>\n",
       "<style scoped>\n",
       "    .dataframe tbody tr th:only-of-type {\n",
       "        vertical-align: middle;\n",
       "    }\n",
       "\n",
       "    .dataframe tbody tr th {\n",
       "        vertical-align: top;\n",
       "    }\n",
       "\n",
       "    .dataframe thead th {\n",
       "        text-align: right;\n",
       "    }\n",
       "</style>\n",
       "<table border=\"1\" class=\"dataframe\">\n",
       "  <thead>\n",
       "    <tr style=\"text-align: right;\">\n",
       "      <th></th>\n",
       "      <th>concept_id</th>\n",
       "      <th>concept_label</th>\n",
       "      <th>parent_concept_id</th>\n",
       "      <th>parent_label</th>\n",
       "      <th>concept_path</th>\n",
       "    </tr>\n",
       "  </thead>\n",
       "  <tbody>\n",
       "    <tr>\n",
       "      <th>22</th>\n",
       "      <td>189723279</td>\n",
       "      <td>Life Sciences</td>\n",
       "      <td>170589326.0</td>\n",
       "      <td>Natural Sciences</td>\n",
       "      <td>/189723269/170589326/189723279/</td>\n",
       "    </tr>\n",
       "  </tbody>\n",
       "</table>\n",
       "</div>"
      ],
      "text/plain": [
       "    concept_id  concept_label  parent_concept_id      parent_label  \\\n",
       "22   189723279  Life Sciences        170589326.0  Natural Sciences   \n",
       "\n",
       "                       concept_path  \n",
       "22  /189723269/170589326/189723279/  "
      ]
     },
     "execution_count": 9,
     "metadata": {},
     "output_type": "execute_result"
    }
   ],
   "source": [
    "lscience = del_select[del_select['concept_label'] == \"Life Sciences\" ]\n",
    "lscience"
   ]
  },
  {
   "cell_type": "code",
   "execution_count": null,
   "metadata": {},
   "outputs": [],
   "source": []
  }
 ],
 "metadata": {
  "kernelspec": {
   "display_name": "Python 3",
   "language": "python",
   "name": "python3"
  },
  "language_info": {
   "codemirror_mode": {
    "name": "ipython",
    "version": 3
   },
   "file_extension": ".py",
   "mimetype": "text/x-python",
   "name": "python",
   "nbconvert_exporter": "python",
   "pygments_lexer": "ipython3",
   "version": "3.7.6"
  }
 },
 "nbformat": 4,
 "nbformat_minor": 4
}
