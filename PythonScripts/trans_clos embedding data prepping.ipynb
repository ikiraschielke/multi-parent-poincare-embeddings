{
 "cells": [
  {
   "cell_type": "code",
   "execution_count": 1,
   "metadata": {},
   "outputs": [],
   "source": [
    "import torch as th\n",
    "import numpy as np\n",
    "import pandas as pd\n",
    "import os"
   ]
  },
  {
   "cell_type": "raw",
   "metadata": {},
   "source": [
    "home = os.getcwd()\n",
    "os.chdir(\"../\")\n",
    "model = th.load(\"dim2_e50_b10_toplvl.pth.best\")\n",
    "model_val = model['model'] #ordered dict with additional infos\n",
    "#weights are taken from tsv so far otherwise load from model[embeddings]\n",
    "embeddings = model['embeddings'] #len 1180 type:tensor [1180, 5]\n",
    "#either ID's as sreings but could also be the names of the objects\n",
    "objects = model['objects'] # all ints\n",
    "\n",
    "\n",
    "X = embeddings.numpy()\n"
   ]
  },
  {
   "cell_type": "code",
   "execution_count": null,
   "metadata": {},
   "outputs": [],
   "source": [
    "X.shape"
   ]
  },
  {
   "cell_type": "raw",
   "metadata": {
    "scrolled": false
   },
   "source": [
    "\n",
    "df = pd.DataFrame(data=X)\n",
    "df['id'] = objects\n",
    "# reoder columns\n",
    "cols = df.columns.tolist()\n",
    "cols = cols[-1:] + cols[:-1]\n",
    "df = df[cols] \n",
    "df.head()"
   ]
  },
  {
   "cell_type": "raw",
   "metadata": {},
   "source": [
    "# load trans closure!\n",
    "os.chdir(\"./closure_csv\")\n",
    "trans_clos = pd.read_csv('top_levels_closure.csv', header=None, usecols=[0,1], sep=\",\")\n",
    "trans_clos = trans_clos[1:]\n",
    "trans_clos.head()\n",
    "trans_clos = trans_clos.rename(columns={0: 'id', 1: 1})\n"
   ]
  },
  {
   "cell_type": "code",
   "execution_count": null,
   "metadata": {
    "scrolled": true
   },
   "outputs": [],
   "source": [
    "trans_clos.head()"
   ]
  },
  {
   "cell_type": "code",
   "execution_count": null,
   "metadata": {},
   "outputs": [],
   "source": [
    "# mat = trans_clos.set_index('id').join(df )\n",
    "# mat.head()"
   ]
  },
  {
   "cell_type": "code",
   "execution_count": null,
   "metadata": {},
   "outputs": [],
   "source": [
    "trans_clos.shape"
   ]
  },
  {
   "cell_type": "code",
   "execution_count": null,
   "metadata": {},
   "outputs": [],
   "source": [
    "df.shape"
   ]
  },
  {
   "cell_type": "code",
   "execution_count": null,
   "metadata": {},
   "outputs": [],
   "source": [
    "df['id'] = df.id.astype(int)"
   ]
  },
  {
   "cell_type": "code",
   "execution_count": null,
   "metadata": {},
   "outputs": [],
   "source": [
    "\n",
    "trans_clos['id'] = trans_clos.id.astype(int)"
   ]
  },
  {
   "cell_type": "code",
   "execution_count": null,
   "metadata": {},
   "outputs": [],
   "source": [
    "mat_ = trans_clos.merge( df,on='id', how='left' )\n",
    "mat_.head()"
   ]
  },
  {
   "cell_type": "code",
   "execution_count": null,
   "metadata": {},
   "outputs": [],
   "source": [
    "mat_ = mat_.rename(columns={'id': 'id1', '1_x': 'id',   0: '1_x'})\n",
    "mat_.head()"
   ]
  },
  {
   "cell_type": "code",
   "execution_count": null,
   "metadata": {},
   "outputs": [],
   "source": [
    "mat_['id'] = mat_.id.astype(int)"
   ]
  },
  {
   "cell_type": "code",
   "execution_count": null,
   "metadata": {},
   "outputs": [],
   "source": [
    "mat_ = mat_.merge( df,on='id', how='left' )\n",
    "mat_.head()"
   ]
  },
  {
   "cell_type": "code",
   "execution_count": null,
   "metadata": {
    "scrolled": true
   },
   "outputs": [],
   "source": [
    "mat_ = mat_.rename(columns={'id': 'id2',   0: '2_x', 1: '2_y'})\n",
    "mat_.head()"
   ]
  },
  {
   "cell_type": "markdown",
   "metadata": {},
   "source": [
    "os.chdir('/home/ikira/poincare-embeddings/prepped_csv')\n",
    "mat_.to_csv('alt_trans_clos_embeddings.csv', sep='\\t', header=True, index= False)"
   ]
  },
  {
   "cell_type": "code",
   "execution_count": 2,
   "metadata": {},
   "outputs": [
    {
     "data": {
      "text/html": [
       "<div>\n",
       "<style scoped>\n",
       "    .dataframe tbody tr th:only-of-type {\n",
       "        vertical-align: middle;\n",
       "    }\n",
       "\n",
       "    .dataframe tbody tr th {\n",
       "        vertical-align: top;\n",
       "    }\n",
       "\n",
       "    .dataframe thead th {\n",
       "        text-align: right;\n",
       "    }\n",
       "</style>\n",
       "<table border=\"1\" class=\"dataframe\">\n",
       "  <thead>\n",
       "    <tr style=\"text-align: right;\">\n",
       "      <th></th>\n",
       "      <th>id1</th>\n",
       "      <th>id2</th>\n",
       "      <th>class label</th>\n",
       "    </tr>\n",
       "  </thead>\n",
       "  <tbody>\n",
       "    <tr>\n",
       "      <th>0</th>\n",
       "      <td>189723269</td>\n",
       "      <td>999999999</td>\n",
       "      <td>1</td>\n",
       "    </tr>\n",
       "    <tr>\n",
       "      <th>1</th>\n",
       "      <td>170589324</td>\n",
       "      <td>189723269</td>\n",
       "      <td>1</td>\n",
       "    </tr>\n",
       "    <tr>\n",
       "      <th>2</th>\n",
       "      <td>170589320</td>\n",
       "      <td>189723269</td>\n",
       "      <td>1</td>\n",
       "    </tr>\n",
       "    <tr>\n",
       "      <th>3</th>\n",
       "      <td>186201601</td>\n",
       "      <td>189723269</td>\n",
       "      <td>1</td>\n",
       "    </tr>\n",
       "    <tr>\n",
       "      <th>4</th>\n",
       "      <td>170589436</td>\n",
       "      <td>189723269</td>\n",
       "      <td>1</td>\n",
       "    </tr>\n",
       "  </tbody>\n",
       "</table>\n",
       "</div>"
      ],
      "text/plain": [
       "         id1        id2  class label\n",
       "0  189723269  999999999            1\n",
       "1  170589324  189723269            1\n",
       "2  170589320  189723269            1\n",
       "3  186201601  189723269            1\n",
       "4  170589436  189723269            1"
      ]
     },
     "execution_count": 2,
     "metadata": {},
     "output_type": "execute_result"
    }
   ],
   "source": [
    "\n",
    "\n",
    "os.chdir(\"../prepped_csv\")\n",
    "rel = pd.read_csv('top_levels.csv')\n",
    "\n",
    "rel = rel.rename(columns={'weight': 'class label'})\n",
    "\n",
    "\n",
    "rel.id1 = rel.id1.astype(int)\n",
    "rel.id2 = rel.id2.astype(int)\n",
    "rel.head()\n"
   ]
  },
  {
   "cell_type": "code",
   "execution_count": null,
   "metadata": {},
   "outputs": [],
   "source": [
    "rel[rel['id2'] == 189723269]"
   ]
  },
  {
   "cell_type": "code",
   "execution_count": null,
   "metadata": {},
   "outputs": [],
   "source": [
    "#todo df with class labels, shares edge\n",
    "done = mat_.merge( rel,on=['id1','id2'], how='left' )\n",
    "done.head()"
   ]
  },
  {
   "cell_type": "code",
   "execution_count": null,
   "metadata": {},
   "outputs": [],
   "source": [
    "done = done.fillna(0)\n",
    "done.head()"
   ]
  },
  {
   "cell_type": "code",
   "execution_count": null,
   "metadata": {},
   "outputs": [],
   "source": [
    "done.to_csv('alt_gold_trans_clos_embeddings.csv', sep='\\t', header=True, index= False)"
   ]
  },
  {
   "cell_type": "code",
   "execution_count": 3,
   "metadata": {},
   "outputs": [
    {
     "data": {
      "text/html": [
       "<div>\n",
       "<style scoped>\n",
       "    .dataframe tbody tr th:only-of-type {\n",
       "        vertical-align: middle;\n",
       "    }\n",
       "\n",
       "    .dataframe tbody tr th {\n",
       "        vertical-align: top;\n",
       "    }\n",
       "\n",
       "    .dataframe thead th {\n",
       "        text-align: right;\n",
       "    }\n",
       "</style>\n",
       "<table border=\"1\" class=\"dataframe\">\n",
       "  <thead>\n",
       "    <tr style=\"text-align: right;\">\n",
       "      <th></th>\n",
       "      <th>id</th>\n",
       "      <th>0</th>\n",
       "      <th>1</th>\n",
       "    </tr>\n",
       "  </thead>\n",
       "  <tbody>\n",
       "    <tr>\n",
       "      <th>0</th>\n",
       "      <td>186201345</td>\n",
       "      <td>-0.950052</td>\n",
       "      <td>-0.013506</td>\n",
       "    </tr>\n",
       "    <tr>\n",
       "      <th>1</th>\n",
       "      <td>189721042</td>\n",
       "      <td>-0.886165</td>\n",
       "      <td>-0.013648</td>\n",
       "    </tr>\n",
       "    <tr>\n",
       "      <th>2</th>\n",
       "      <td>186131996</td>\n",
       "      <td>-0.317058</td>\n",
       "      <td>-0.627595</td>\n",
       "    </tr>\n",
       "    <tr>\n",
       "      <th>3</th>\n",
       "      <td>261481841</td>\n",
       "      <td>-0.299037</td>\n",
       "      <td>-0.619111</td>\n",
       "    </tr>\n",
       "    <tr>\n",
       "      <th>4</th>\n",
       "      <td>484995553</td>\n",
       "      <td>0.322711</td>\n",
       "      <td>0.400252</td>\n",
       "    </tr>\n",
       "  </tbody>\n",
       "</table>\n",
       "</div>"
      ],
      "text/plain": [
       "          id         0         1\n",
       "0  186201345 -0.950052 -0.013506\n",
       "1  189721042 -0.886165 -0.013648\n",
       "2  186131996 -0.317058 -0.627595\n",
       "3  261481841 -0.299037 -0.619111\n",
       "4  484995553  0.322711  0.400252"
      ]
     },
     "execution_count": 3,
     "metadata": {},
     "output_type": "execute_result"
    }
   ],
   "source": [
    "#NOW DO THE SAME WITH THE TRAINED EMBEDDINGS WITH DELETION AND STUFF\n",
    "\n",
    "#load model \n",
    "os.chdir(home)\n",
    "model = th.load(\"dim2_notrace_chrystall.pth.best\")\n",
    "model_val = model['model'] #ordered dict with additional infos\n",
    "#weights are taken from tsv so far otherwise load from model[embeddings]\n",
    "embeddings = model['embeddings'] #len 1180 type:tensor [1180, 5]\n",
    "#either ID's as sreings but could also be the names of the objects\n",
    "objects = model['objects'] # all ints\n",
    "\n",
    "\n",
    "X_test = embeddings.numpy()\n",
    "\n",
    "\n",
    "df_t = pd.DataFrame(data=X_test)\n",
    "df_t['id'] = objects\n",
    "df_t['id'] = df_t.id.astype(int)\n",
    "# reoder columns\n",
    "cols = df_t.columns.tolist()\n",
    "cols = cols[-1:] + cols[:-1]\n",
    "df_t = df_t[cols] \n",
    "df_t.head()"
   ]
  },
  {
   "cell_type": "code",
   "execution_count": 6,
   "metadata": {},
   "outputs": [
    {
     "data": {
      "text/html": [
       "<div>\n",
       "<style scoped>\n",
       "    .dataframe tbody tr th:only-of-type {\n",
       "        vertical-align: middle;\n",
       "    }\n",
       "\n",
       "    .dataframe tbody tr th {\n",
       "        vertical-align: top;\n",
       "    }\n",
       "\n",
       "    .dataframe thead th {\n",
       "        text-align: right;\n",
       "    }\n",
       "</style>\n",
       "<table border=\"1\" class=\"dataframe\">\n",
       "  <thead>\n",
       "    <tr style=\"text-align: right;\">\n",
       "      <th></th>\n",
       "      <th>id</th>\n",
       "      <th>1</th>\n",
       "    </tr>\n",
       "  </thead>\n",
       "  <tbody>\n",
       "    <tr>\n",
       "      <th>1</th>\n",
       "      <td>186201345</td>\n",
       "      <td>189721042</td>\n",
       "    </tr>\n",
       "    <tr>\n",
       "      <th>2</th>\n",
       "      <td>186131996</td>\n",
       "      <td>261481841</td>\n",
       "    </tr>\n",
       "    <tr>\n",
       "      <th>3</th>\n",
       "      <td>484995553</td>\n",
       "      <td>262491683</td>\n",
       "    </tr>\n",
       "    <tr>\n",
       "      <th>4</th>\n",
       "      <td>186201601</td>\n",
       "      <td>253227719</td>\n",
       "    </tr>\n",
       "    <tr>\n",
       "      <th>5</th>\n",
       "      <td>186201601</td>\n",
       "      <td>252912504</td>\n",
       "    </tr>\n",
       "  </tbody>\n",
       "</table>\n",
       "</div>"
      ],
      "text/plain": [
       "          id          1\n",
       "1  186201345  189721042\n",
       "2  186131996  261481841\n",
       "3  484995553  262491683\n",
       "4  186201601  253227719\n",
       "5  186201601  252912504"
      ]
     },
     "execution_count": 6,
     "metadata": {},
     "output_type": "execute_result"
    }
   ],
   "source": [
    "#load trans clos of that DS\n",
    "os.chdir('../closure_csv')\n",
    "trans_clos = pd.read_csv('top_lvl_no_trace_chrystallgrophy_ids.csv', header=None, usecols=[0,1], sep=\",\")\n",
    "trans_clos = trans_clos[1:]\n",
    "\n",
    "trans_clos = trans_clos.rename(columns={0: 'id', 1: 1})\n",
    "trans_clos['id'] = trans_clos.id.astype(int)\n",
    "trans_clos.head()"
   ]
  },
  {
   "cell_type": "code",
   "execution_count": 33,
   "metadata": {},
   "outputs": [],
   "source": [
    "#SWAP COLUM AND COL NAMES THAT WAS IMPORTANT for the merge\n",
    "#this shouldn't be too much of a problem because we look for undirected edges so a->b == b->a\n",
    "\n",
    "swap = rel.reindex(columns=['id2','id1','class label'])\n",
    "swap.head()\n",
    "swap = swap.rename(columns={'id2':'id1', 'id1':'id2'})"
   ]
  },
  {
   "cell_type": "raw",
   "metadata": {},
   "source": [
    "trans_clos = trans_clos.rename(columns={'id': 'id1', 1: 'id2'})\n",
    "trans_clos['id1'] = trans_clos.id1.astype(int)\n",
    "trans_clos['id2'] = trans_clos.id2.astype(int)\n",
    "trans_clos.head()"
   ]
  },
  {
   "cell_type": "raw",
   "metadata": {},
   "source": [
    "rel[rel['id2'] == 189723269]"
   ]
  },
  {
   "cell_type": "raw",
   "metadata": {},
   "source": [
    "trans_clos[trans_clos['id1'] == 189723269 ]"
   ]
  },
  {
   "cell_type": "raw",
   "metadata": {},
   "source": [
    "test = trans_clos.merge(rel,on=['id1','id2'], how='right' )\n",
    "test.head()\n"
   ]
  },
  {
   "cell_type": "raw",
   "metadata": {},
   "source": [
    "test = test.fillna(0)\n",
    "test[test['id1'] == 189723269 ]"
   ]
  },
  {
   "cell_type": "code",
   "execution_count": 8,
   "metadata": {},
   "outputs": [
    {
     "data": {
      "text/html": [
       "<div>\n",
       "<style scoped>\n",
       "    .dataframe tbody tr th:only-of-type {\n",
       "        vertical-align: middle;\n",
       "    }\n",
       "\n",
       "    .dataframe tbody tr th {\n",
       "        vertical-align: top;\n",
       "    }\n",
       "\n",
       "    .dataframe thead th {\n",
       "        text-align: right;\n",
       "    }\n",
       "</style>\n",
       "<table border=\"1\" class=\"dataframe\">\n",
       "  <thead>\n",
       "    <tr style=\"text-align: right;\">\n",
       "      <th></th>\n",
       "      <th>id</th>\n",
       "      <th>1_x</th>\n",
       "      <th>0</th>\n",
       "      <th>1_y</th>\n",
       "    </tr>\n",
       "  </thead>\n",
       "  <tbody>\n",
       "    <tr>\n",
       "      <th>0</th>\n",
       "      <td>186201345</td>\n",
       "      <td>189721042</td>\n",
       "      <td>-0.950052</td>\n",
       "      <td>-0.013506</td>\n",
       "    </tr>\n",
       "    <tr>\n",
       "      <th>1</th>\n",
       "      <td>186131996</td>\n",
       "      <td>261481841</td>\n",
       "      <td>-0.317058</td>\n",
       "      <td>-0.627595</td>\n",
       "    </tr>\n",
       "    <tr>\n",
       "      <th>2</th>\n",
       "      <td>484995553</td>\n",
       "      <td>262491683</td>\n",
       "      <td>0.322711</td>\n",
       "      <td>0.400252</td>\n",
       "    </tr>\n",
       "    <tr>\n",
       "      <th>3</th>\n",
       "      <td>186201601</td>\n",
       "      <td>253227719</td>\n",
       "      <td>-0.598286</td>\n",
       "      <td>-0.800964</td>\n",
       "    </tr>\n",
       "    <tr>\n",
       "      <th>4</th>\n",
       "      <td>186201601</td>\n",
       "      <td>252912504</td>\n",
       "      <td>-0.598286</td>\n",
       "      <td>-0.800964</td>\n",
       "    </tr>\n",
       "  </tbody>\n",
       "</table>\n",
       "</div>"
      ],
      "text/plain": [
       "          id        1_x         0       1_y\n",
       "0  186201345  189721042 -0.950052 -0.013506\n",
       "1  186131996  261481841 -0.317058 -0.627595\n",
       "2  484995553  262491683  0.322711  0.400252\n",
       "3  186201601  253227719 -0.598286 -0.800964\n",
       "4  186201601  252912504 -0.598286 -0.800964"
      ]
     },
     "execution_count": 8,
     "metadata": {},
     "output_type": "execute_result"
    }
   ],
   "source": [
    "mat_ = trans_clos.merge( df_t,on='id', how='left' )\n",
    "mat_['id'] = mat_.id.astype(int)\n",
    "mat_.head()"
   ]
  },
  {
   "cell_type": "code",
   "execution_count": 9,
   "metadata": {},
   "outputs": [
    {
     "data": {
      "text/html": [
       "<div>\n",
       "<style scoped>\n",
       "    .dataframe tbody tr th:only-of-type {\n",
       "        vertical-align: middle;\n",
       "    }\n",
       "\n",
       "    .dataframe tbody tr th {\n",
       "        vertical-align: top;\n",
       "    }\n",
       "\n",
       "    .dataframe thead th {\n",
       "        text-align: right;\n",
       "    }\n",
       "</style>\n",
       "<table border=\"1\" class=\"dataframe\">\n",
       "  <thead>\n",
       "    <tr style=\"text-align: right;\">\n",
       "      <th></th>\n",
       "      <th>id1</th>\n",
       "      <th>id</th>\n",
       "      <th>1_x</th>\n",
       "      <th>1_y</th>\n",
       "    </tr>\n",
       "  </thead>\n",
       "  <tbody>\n",
       "    <tr>\n",
       "      <th>0</th>\n",
       "      <td>186201345</td>\n",
       "      <td>189721042</td>\n",
       "      <td>-0.950052</td>\n",
       "      <td>-0.013506</td>\n",
       "    </tr>\n",
       "    <tr>\n",
       "      <th>1</th>\n",
       "      <td>186131996</td>\n",
       "      <td>261481841</td>\n",
       "      <td>-0.317058</td>\n",
       "      <td>-0.627595</td>\n",
       "    </tr>\n",
       "    <tr>\n",
       "      <th>2</th>\n",
       "      <td>484995553</td>\n",
       "      <td>262491683</td>\n",
       "      <td>0.322711</td>\n",
       "      <td>0.400252</td>\n",
       "    </tr>\n",
       "    <tr>\n",
       "      <th>3</th>\n",
       "      <td>186201601</td>\n",
       "      <td>253227719</td>\n",
       "      <td>-0.598286</td>\n",
       "      <td>-0.800964</td>\n",
       "    </tr>\n",
       "    <tr>\n",
       "      <th>4</th>\n",
       "      <td>186201601</td>\n",
       "      <td>252912504</td>\n",
       "      <td>-0.598286</td>\n",
       "      <td>-0.800964</td>\n",
       "    </tr>\n",
       "  </tbody>\n",
       "</table>\n",
       "</div>"
      ],
      "text/plain": [
       "         id1         id       1_x       1_y\n",
       "0  186201345  189721042 -0.950052 -0.013506\n",
       "1  186131996  261481841 -0.317058 -0.627595\n",
       "2  484995553  262491683  0.322711  0.400252\n",
       "3  186201601  253227719 -0.598286 -0.800964\n",
       "4  186201601  252912504 -0.598286 -0.800964"
      ]
     },
     "execution_count": 9,
     "metadata": {},
     "output_type": "execute_result"
    }
   ],
   "source": [
    "mat_ = mat_.rename(columns={'id': 'id1', '1_x': 'id',   0: '1_x'})\n",
    "mat_.head()"
   ]
  },
  {
   "cell_type": "code",
   "execution_count": 10,
   "metadata": {},
   "outputs": [],
   "source": [
    "mat_['id'] = mat_.id.astype(int)\n"
   ]
  },
  {
   "cell_type": "code",
   "execution_count": 11,
   "metadata": {},
   "outputs": [
    {
     "data": {
      "text/html": [
       "<div>\n",
       "<style scoped>\n",
       "    .dataframe tbody tr th:only-of-type {\n",
       "        vertical-align: middle;\n",
       "    }\n",
       "\n",
       "    .dataframe tbody tr th {\n",
       "        vertical-align: top;\n",
       "    }\n",
       "\n",
       "    .dataframe thead th {\n",
       "        text-align: right;\n",
       "    }\n",
       "</style>\n",
       "<table border=\"1\" class=\"dataframe\">\n",
       "  <thead>\n",
       "    <tr style=\"text-align: right;\">\n",
       "      <th></th>\n",
       "      <th>id1</th>\n",
       "      <th>id2</th>\n",
       "      <th>1_x</th>\n",
       "      <th>1_y</th>\n",
       "      <th>2_x</th>\n",
       "      <th>2_y</th>\n",
       "    </tr>\n",
       "  </thead>\n",
       "  <tbody>\n",
       "    <tr>\n",
       "      <th>0</th>\n",
       "      <td>186201345</td>\n",
       "      <td>189721042</td>\n",
       "      <td>-0.950052</td>\n",
       "      <td>-0.013506</td>\n",
       "      <td>-0.886165</td>\n",
       "      <td>-0.013648</td>\n",
       "    </tr>\n",
       "    <tr>\n",
       "      <th>1</th>\n",
       "      <td>186131996</td>\n",
       "      <td>261481841</td>\n",
       "      <td>-0.317058</td>\n",
       "      <td>-0.627595</td>\n",
       "      <td>-0.299037</td>\n",
       "      <td>-0.619111</td>\n",
       "    </tr>\n",
       "    <tr>\n",
       "      <th>2</th>\n",
       "      <td>484995553</td>\n",
       "      <td>262491683</td>\n",
       "      <td>0.322711</td>\n",
       "      <td>0.400252</td>\n",
       "      <td>0.306095</td>\n",
       "      <td>0.413837</td>\n",
       "    </tr>\n",
       "    <tr>\n",
       "      <th>3</th>\n",
       "      <td>186201601</td>\n",
       "      <td>253227719</td>\n",
       "      <td>-0.598286</td>\n",
       "      <td>-0.800964</td>\n",
       "      <td>-0.425721</td>\n",
       "      <td>-0.806831</td>\n",
       "    </tr>\n",
       "    <tr>\n",
       "      <th>4</th>\n",
       "      <td>186201601</td>\n",
       "      <td>252912504</td>\n",
       "      <td>-0.598286</td>\n",
       "      <td>-0.800964</td>\n",
       "      <td>0.094071</td>\n",
       "      <td>-0.579875</td>\n",
       "    </tr>\n",
       "  </tbody>\n",
       "</table>\n",
       "</div>"
      ],
      "text/plain": [
       "         id1        id2       1_x       1_y       2_x       2_y\n",
       "0  186201345  189721042 -0.950052 -0.013506 -0.886165 -0.013648\n",
       "1  186131996  261481841 -0.317058 -0.627595 -0.299037 -0.619111\n",
       "2  484995553  262491683  0.322711  0.400252  0.306095  0.413837\n",
       "3  186201601  253227719 -0.598286 -0.800964 -0.425721 -0.806831\n",
       "4  186201601  252912504 -0.598286 -0.800964  0.094071 -0.579875"
      ]
     },
     "execution_count": 11,
     "metadata": {},
     "output_type": "execute_result"
    }
   ],
   "source": [
    "mat_ = mat_.merge( df_t,on='id', how='left' )\n",
    "\n",
    "mat_ = mat_.rename(columns={'id': 'id2', 0: '2_x', 1:'2_y'})\n",
    "mat_.head()"
   ]
  },
  {
   "cell_type": "code",
   "execution_count": 34,
   "metadata": {},
   "outputs": [
    {
     "data": {
      "text/html": [
       "<div>\n",
       "<style scoped>\n",
       "    .dataframe tbody tr th:only-of-type {\n",
       "        vertical-align: middle;\n",
       "    }\n",
       "\n",
       "    .dataframe tbody tr th {\n",
       "        vertical-align: top;\n",
       "    }\n",
       "\n",
       "    .dataframe thead th {\n",
       "        text-align: right;\n",
       "    }\n",
       "</style>\n",
       "<table border=\"1\" class=\"dataframe\">\n",
       "  <thead>\n",
       "    <tr style=\"text-align: right;\">\n",
       "      <th></th>\n",
       "      <th>id1</th>\n",
       "      <th>id2</th>\n",
       "      <th>1_x</th>\n",
       "      <th>1_y</th>\n",
       "      <th>2_x</th>\n",
       "      <th>2_y</th>\n",
       "      <th>class label</th>\n",
       "    </tr>\n",
       "  </thead>\n",
       "  <tbody>\n",
       "    <tr>\n",
       "      <th>0</th>\n",
       "      <td>186201345</td>\n",
       "      <td>189721042</td>\n",
       "      <td>-0.950052</td>\n",
       "      <td>-0.013506</td>\n",
       "      <td>-0.886165</td>\n",
       "      <td>-0.013648</td>\n",
       "      <td>0.0</td>\n",
       "    </tr>\n",
       "    <tr>\n",
       "      <th>1</th>\n",
       "      <td>186131996</td>\n",
       "      <td>261481841</td>\n",
       "      <td>-0.317058</td>\n",
       "      <td>-0.627595</td>\n",
       "      <td>-0.299037</td>\n",
       "      <td>-0.619111</td>\n",
       "      <td>1.0</td>\n",
       "    </tr>\n",
       "    <tr>\n",
       "      <th>2</th>\n",
       "      <td>186131996</td>\n",
       "      <td>261481841</td>\n",
       "      <td>-0.317058</td>\n",
       "      <td>-0.627595</td>\n",
       "      <td>-0.299037</td>\n",
       "      <td>-0.619111</td>\n",
       "      <td>1.0</td>\n",
       "    </tr>\n",
       "    <tr>\n",
       "      <th>3</th>\n",
       "      <td>484995553</td>\n",
       "      <td>262491683</td>\n",
       "      <td>0.322711</td>\n",
       "      <td>0.400252</td>\n",
       "      <td>0.306095</td>\n",
       "      <td>0.413837</td>\n",
       "      <td>1.0</td>\n",
       "    </tr>\n",
       "    <tr>\n",
       "      <th>4</th>\n",
       "      <td>186201601</td>\n",
       "      <td>253227719</td>\n",
       "      <td>-0.598286</td>\n",
       "      <td>-0.800964</td>\n",
       "      <td>-0.425721</td>\n",
       "      <td>-0.806831</td>\n",
       "      <td>0.0</td>\n",
       "    </tr>\n",
       "  </tbody>\n",
       "</table>\n",
       "</div>"
      ],
      "text/plain": [
       "         id1        id2       1_x       1_y       2_x       2_y  class label\n",
       "0  186201345  189721042 -0.950052 -0.013506 -0.886165 -0.013648          0.0\n",
       "1  186131996  261481841 -0.317058 -0.627595 -0.299037 -0.619111          1.0\n",
       "2  186131996  261481841 -0.317058 -0.627595 -0.299037 -0.619111          1.0\n",
       "3  484995553  262491683  0.322711  0.400252  0.306095  0.413837          1.0\n",
       "4  186201601  253227719 -0.598286 -0.800964 -0.425721 -0.806831          0.0"
      ]
     },
     "execution_count": 34,
     "metadata": {},
     "output_type": "execute_result"
    }
   ],
   "source": [
    "#todo df with class labels, shares edge\n",
    "done = mat_.merge(swap,on=['id1','id2'], how='outer')\n",
    "done = done.fillna(0)\n",
    "done.head()"
   ]
  },
  {
   "cell_type": "code",
   "execution_count": 37,
   "metadata": {},
   "outputs": [
    {
     "data": {
      "text/html": [
       "<div>\n",
       "<style scoped>\n",
       "    .dataframe tbody tr th:only-of-type {\n",
       "        vertical-align: middle;\n",
       "    }\n",
       "\n",
       "    .dataframe tbody tr th {\n",
       "        vertical-align: top;\n",
       "    }\n",
       "\n",
       "    .dataframe thead th {\n",
       "        text-align: right;\n",
       "    }\n",
       "</style>\n",
       "<table border=\"1\" class=\"dataframe\">\n",
       "  <thead>\n",
       "    <tr style=\"text-align: right;\">\n",
       "      <th></th>\n",
       "      <th>id1</th>\n",
       "      <th>id2</th>\n",
       "      <th>1_x</th>\n",
       "      <th>1_y</th>\n",
       "      <th>2_x</th>\n",
       "      <th>2_y</th>\n",
       "      <th>class label</th>\n",
       "    </tr>\n",
       "  </thead>\n",
       "  <tbody>\n",
       "    <tr>\n",
       "      <th>1</th>\n",
       "      <td>186131996</td>\n",
       "      <td>261481841</td>\n",
       "      <td>-0.317058</td>\n",
       "      <td>-0.627595</td>\n",
       "      <td>-0.299037</td>\n",
       "      <td>-0.619111</td>\n",
       "      <td>1.0</td>\n",
       "    </tr>\n",
       "    <tr>\n",
       "      <th>2</th>\n",
       "      <td>186131996</td>\n",
       "      <td>261481841</td>\n",
       "      <td>-0.317058</td>\n",
       "      <td>-0.627595</td>\n",
       "      <td>-0.299037</td>\n",
       "      <td>-0.619111</td>\n",
       "      <td>1.0</td>\n",
       "    </tr>\n",
       "    <tr>\n",
       "      <th>3</th>\n",
       "      <td>484995553</td>\n",
       "      <td>262491683</td>\n",
       "      <td>0.322711</td>\n",
       "      <td>0.400252</td>\n",
       "      <td>0.306095</td>\n",
       "      <td>0.413837</td>\n",
       "      <td>1.0</td>\n",
       "    </tr>\n",
       "    <tr>\n",
       "      <th>8</th>\n",
       "      <td>189720740</td>\n",
       "      <td>249563834</td>\n",
       "      <td>0.109796</td>\n",
       "      <td>0.922309</td>\n",
       "      <td>0.277798</td>\n",
       "      <td>0.401936</td>\n",
       "      <td>1.0</td>\n",
       "    </tr>\n",
       "    <tr>\n",
       "      <th>10</th>\n",
       "      <td>189720915</td>\n",
       "      <td>261849767</td>\n",
       "      <td>-0.891375</td>\n",
       "      <td>0.345541</td>\n",
       "      <td>-0.889068</td>\n",
       "      <td>0.344052</td>\n",
       "      <td>1.0</td>\n",
       "    </tr>\n",
       "    <tr>\n",
       "      <th>...</th>\n",
       "      <td>...</td>\n",
       "      <td>...</td>\n",
       "      <td>...</td>\n",
       "      <td>...</td>\n",
       "      <td>...</td>\n",
       "      <td>...</td>\n",
       "      <td>...</td>\n",
       "    </tr>\n",
       "    <tr>\n",
       "      <th>15671</th>\n",
       "      <td>249672362</td>\n",
       "      <td>249672363</td>\n",
       "      <td>0.090182</td>\n",
       "      <td>-0.625291</td>\n",
       "      <td>0.110049</td>\n",
       "      <td>-0.629092</td>\n",
       "      <td>1.0</td>\n",
       "    </tr>\n",
       "    <tr>\n",
       "      <th>15672</th>\n",
       "      <td>249672362</td>\n",
       "      <td>249672363</td>\n",
       "      <td>0.090182</td>\n",
       "      <td>-0.625291</td>\n",
       "      <td>0.110049</td>\n",
       "      <td>-0.629092</td>\n",
       "      <td>1.0</td>\n",
       "    </tr>\n",
       "    <tr>\n",
       "      <th>15673</th>\n",
       "      <td>249672362</td>\n",
       "      <td>249672363</td>\n",
       "      <td>0.090182</td>\n",
       "      <td>-0.625291</td>\n",
       "      <td>0.110049</td>\n",
       "      <td>-0.629092</td>\n",
       "      <td>1.0</td>\n",
       "    </tr>\n",
       "    <tr>\n",
       "      <th>15693</th>\n",
       "      <td>189967547</td>\n",
       "      <td>253045760</td>\n",
       "      <td>0.769439</td>\n",
       "      <td>-0.465798</td>\n",
       "      <td>0.760494</td>\n",
       "      <td>-0.460858</td>\n",
       "      <td>1.0</td>\n",
       "    </tr>\n",
       "    <tr>\n",
       "      <th>15697</th>\n",
       "      <td>999999999</td>\n",
       "      <td>189723269</td>\n",
       "      <td>0.000000</td>\n",
       "      <td>0.000000</td>\n",
       "      <td>0.000000</td>\n",
       "      <td>0.000000</td>\n",
       "      <td>1.0</td>\n",
       "    </tr>\n",
       "  </tbody>\n",
       "</table>\n",
       "<p>3849 rows × 7 columns</p>\n",
       "</div>"
      ],
      "text/plain": [
       "             id1        id2       1_x       1_y       2_x       2_y  \\\n",
       "1      186131996  261481841 -0.317058 -0.627595 -0.299037 -0.619111   \n",
       "2      186131996  261481841 -0.317058 -0.627595 -0.299037 -0.619111   \n",
       "3      484995553  262491683  0.322711  0.400252  0.306095  0.413837   \n",
       "8      189720740  249563834  0.109796  0.922309  0.277798  0.401936   \n",
       "10     189720915  261849767 -0.891375  0.345541 -0.889068  0.344052   \n",
       "...          ...        ...       ...       ...       ...       ...   \n",
       "15671  249672362  249672363  0.090182 -0.625291  0.110049 -0.629092   \n",
       "15672  249672362  249672363  0.090182 -0.625291  0.110049 -0.629092   \n",
       "15673  249672362  249672363  0.090182 -0.625291  0.110049 -0.629092   \n",
       "15693  189967547  253045760  0.769439 -0.465798  0.760494 -0.460858   \n",
       "15697  999999999  189723269  0.000000  0.000000  0.000000  0.000000   \n",
       "\n",
       "       class label  \n",
       "1              1.0  \n",
       "2              1.0  \n",
       "3              1.0  \n",
       "8              1.0  \n",
       "10             1.0  \n",
       "...            ...  \n",
       "15671          1.0  \n",
       "15672          1.0  \n",
       "15673          1.0  \n",
       "15693          1.0  \n",
       "15697          1.0  \n",
       "\n",
       "[3849 rows x 7 columns]"
      ]
     },
     "execution_count": 37,
     "metadata": {},
     "output_type": "execute_result"
    }
   ],
   "source": [
    "done[done['class label'] == 1.0]"
   ]
  },
  {
   "cell_type": "code",
   "execution_count": 68,
   "metadata": {},
   "outputs": [
    {
     "data": {
      "text/html": [
       "<div>\n",
       "<style scoped>\n",
       "    .dataframe tbody tr th:only-of-type {\n",
       "        vertical-align: middle;\n",
       "    }\n",
       "\n",
       "    .dataframe tbody tr th {\n",
       "        vertical-align: top;\n",
       "    }\n",
       "\n",
       "    .dataframe thead th {\n",
       "        text-align: right;\n",
       "    }\n",
       "</style>\n",
       "<table border=\"1\" class=\"dataframe\">\n",
       "  <thead>\n",
       "    <tr style=\"text-align: right;\">\n",
       "      <th></th>\n",
       "      <th>id1</th>\n",
       "      <th>id2</th>\n",
       "      <th>1_x</th>\n",
       "      <th>1_y</th>\n",
       "      <th>2_x</th>\n",
       "      <th>2_y</th>\n",
       "      <th>class label</th>\n",
       "    </tr>\n",
       "  </thead>\n",
       "  <tbody>\n",
       "    <tr>\n",
       "      <th>6616</th>\n",
       "      <td>189723269</td>\n",
       "      <td>170589328</td>\n",
       "      <td>-0.042236</td>\n",
       "      <td>-0.002132</td>\n",
       "      <td>-0.527361</td>\n",
       "      <td>0.839004</td>\n",
       "      <td>0.0</td>\n",
       "    </tr>\n",
       "  </tbody>\n",
       "</table>\n",
       "</div>"
      ],
      "text/plain": [
       "            id1        id2       1_x       1_y       2_x       2_y  \\\n",
       "6616  189723269  170589328 -0.042236 -0.002132 -0.527361  0.839004   \n",
       "\n",
       "      class label  \n",
       "6616          0.0  "
      ]
     },
     "execution_count": 68,
     "metadata": {},
     "output_type": "execute_result"
    }
   ],
   "source": [
    "sub = done[done['id1'] == 189723269 ]\n",
    "ret = sub[sub['id2'] == 170589328]\n",
    "ret\n",
    "#social science and science have a class label of 0.\n",
    "#where did I go wrong"
   ]
  },
  {
   "cell_type": "code",
   "execution_count": 38,
   "metadata": {},
   "outputs": [],
   "source": [
    "os.chdir('../prepped_csv')\n",
    "done.to_csv('alt_test_chrystal_clos_embeddings.csv', sep='\\t', header=True, index= False)"
   ]
  },
  {
   "cell_type": "code",
   "execution_count": null,
   "metadata": {},
   "outputs": [],
   "source": []
  }
 ],
 "metadata": {
  "kernelspec": {
   "display_name": "Python 3",
   "language": "python",
   "name": "python3"
  },
  "language_info": {
   "codemirror_mode": {
    "name": "ipython",
    "version": 3
   },
   "file_extension": ".py",
   "mimetype": "text/x-python",
   "name": "python",
   "nbconvert_exporter": "python",
   "pygments_lexer": "ipython3",
   "version": "3.7.6"
  }
 },
 "nbformat": 4,
 "nbformat_minor": 4
}
